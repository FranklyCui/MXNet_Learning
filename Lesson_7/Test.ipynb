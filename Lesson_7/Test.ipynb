{
 "cells": [
  {
   "cell_type": "code",
   "execution_count": 4,
   "metadata": {},
   "outputs": [],
   "source": [
    "from mxnet import nd\n",
    "import numpy as np"
   ]
  },
  {
   "cell_type": "code",
   "execution_count": 9,
   "metadata": {},
   "outputs": [],
   "source": [
    "img = nd.zeros(shape=(4, 4, 3))"
   ]
  },
  {
   "cell_type": "code",
   "execution_count": 10,
   "metadata": {},
   "outputs": [
    {
     "data": {
      "text/plain": [
       "\n",
       "[[[0. 0. 0.]\n",
       "  [0. 0. 0.]\n",
       "  [0. 0. 0.]\n",
       "  [0. 0. 0.]]\n",
       "\n",
       " [[0. 0. 0.]\n",
       "  [0. 0. 0.]\n",
       "  [0. 0. 0.]\n",
       "  [0. 0. 0.]]\n",
       "\n",
       " [[0. 0. 0.]\n",
       "  [0. 0. 0.]\n",
       "  [0. 0. 0.]\n",
       "  [0. 0. 0.]]\n",
       "\n",
       " [[0. 0. 0.]\n",
       "  [0. 0. 0.]\n",
       "  [0. 0. 0.]\n",
       "  [0. 0. 0.]]]\n",
       "<NDArray 4x4x3 @cpu(0)>"
      ]
     },
     "execution_count": 10,
     "metadata": {},
     "output_type": "execute_result"
    }
   ],
   "source": [
    "img"
   ]
  },
  {
   "cell_type": "code",
   "execution_count": 13,
   "metadata": {},
   "outputs": [],
   "source": [
    "rgb_mean = nd.array([1, 2, 3])\n",
    "m = [4, 5, 6]"
   ]
  },
  {
   "cell_type": "code",
   "execution_count": 12,
   "metadata": {},
   "outputs": [
    {
     "data": {
      "text/plain": [
       "\n",
       "[[[1. 2. 3.]\n",
       "  [1. 2. 3.]\n",
       "  [1. 2. 3.]\n",
       "  [1. 2. 3.]]\n",
       "\n",
       " [[1. 2. 3.]\n",
       "  [1. 2. 3.]\n",
       "  [1. 2. 3.]\n",
       "  [1. 2. 3.]]\n",
       "\n",
       " [[1. 2. 3.]\n",
       "  [1. 2. 3.]\n",
       "  [1. 2. 3.]\n",
       "  [1. 2. 3.]]\n",
       "\n",
       " [[1. 2. 3.]\n",
       "  [1. 2. 3.]\n",
       "  [1. 2. 3.]\n",
       "  [1. 2. 3.]]]\n",
       "<NDArray 4x4x3 @cpu(0)>"
      ]
     },
     "execution_count": 12,
     "metadata": {},
     "output_type": "execute_result"
    }
   ],
   "source": [
    "img + rgb_mean"
   ]
  },
  {
   "cell_type": "code",
   "execution_count": 15,
   "metadata": {},
   "outputs": [
    {
     "data": {
      "text/plain": [
       "\n",
       "[[[4. 5. 6.]\n",
       "  [4. 5. 6.]\n",
       "  [4. 5. 6.]\n",
       "  [4. 5. 6.]]\n",
       "\n",
       " [[4. 5. 6.]\n",
       "  [4. 5. 6.]\n",
       "  [4. 5. 6.]\n",
       "  [4. 5. 6.]]\n",
       "\n",
       " [[4. 5. 6.]\n",
       "  [4. 5. 6.]\n",
       "  [4. 5. 6.]\n",
       "  [4. 5. 6.]]\n",
       "\n",
       " [[4. 5. 6.]\n",
       "  [4. 5. 6.]\n",
       "  [4. 5. 6.]\n",
       "  [4. 5. 6.]]]\n",
       "<NDArray 4x4x3 @cpu(0)>"
      ]
     },
     "execution_count": 15,
     "metadata": {},
     "output_type": "execute_result"
    }
   ],
   "source": [
    "img + nd.array(m)"
   ]
  },
  {
   "cell_type": "code",
   "execution_count": null,
   "metadata": {},
   "outputs": [],
   "source": []
  }
 ],
 "metadata": {
  "kernelspec": {
   "display_name": "Python 3",
   "language": "python",
   "name": "python3"
  },
  "language_info": {
   "codemirror_mode": {
    "name": "ipython",
    "version": 3
   },
   "file_extension": ".py",
   "mimetype": "text/x-python",
   "name": "python",
   "nbconvert_exporter": "python",
   "pygments_lexer": "ipython3",
   "version": "3.6.5"
  }
 },
 "nbformat": 4,
 "nbformat_minor": 2
}
