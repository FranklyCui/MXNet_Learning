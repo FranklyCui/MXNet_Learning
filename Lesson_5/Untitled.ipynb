{
 "cells": [
  {
   "cell_type": "code",
   "execution_count": 3,
   "metadata": {},
   "outputs": [],
   "source": [
    "from mxnet import gluon, nd\n",
    "from mxnet.gluon import nn"
   ]
  },
  {
   "cell_type": "code",
   "execution_count": 10,
   "metadata": {},
   "outputs": [
    {
     "name": "stdout",
     "output_type": "stream",
     "text": [
      "----------------------------------------------------------------------------------------------------\n",
      "F is:  <module 'mxnet.ndarray' from '/home/frank/anaconda3/envs/gluon/lib/python3.6/site-packages/mxnet/ndarray/__init__.py'>\n",
      "self.fc1 out is:  \n",
      "[[0.         0.         0.06368789 0.         0.         0.29192805\n",
      "  0.56823605 0.5000771  0.         0.18678175]\n",
      " [0.04457841 0.09945595 0.         0.         0.32445368 0.\n",
      "  0.32253787 0.         0.         0.        ]]\n",
      "<NDArray 2x10 @cpu(0)>\n",
      "y is:  \n",
      "[[-0.05794679 -0.02345463]\n",
      " [ 0.00365466  0.00742446]]\n",
      "<NDArray 2x2 @cpu(0)>\n",
      "----------------------------------------------------------------------------------------------------\n",
      "F is:  <module 'mxnet.symbol' from '/home/frank/anaconda3/envs/gluon/lib/python3.6/site-packages/mxnet/symbol/__init__.py'>\n",
      "self.fc1 out is:  <Symbol hybridnet10_relu0>\n",
      "y is:  \n",
      "[[-0.05794679 -0.02345463]\n",
      " [ 0.00365466  0.00742446]]\n",
      "<NDArray 2x2 @cpu(0)>\n"
     ]
    }
   ],
   "source": [
    "class HybridNet(nn.HybridBlock):\n",
    "    \"\"\" 自定义一个Hybrid网络 \"\"\"\n",
    "    def __init__(self, **kwargs):\n",
    "        super(HybridNet, self).__init__(**kwargs)\n",
    "        with self.name_scope():\n",
    "            self.fc1 = nn.Dense(10)\n",
    "            self.fc2 = nn.Dense(2)\n",
    "\n",
    "    def hybrid_forward(self, F, x):\n",
    "        \"\"\" override hybrid_forward method \"\"\"\n",
    "        print('F is: ', F)\n",
    "        x = F.relu(self.fc1(x))\n",
    "        print('self.fc1 out is: ', x)\n",
    "        return self.fc2(x)\n",
    "\n",
    "x = nd.random.normal(shape=(2, 3, 8, 8))\n",
    "\n",
    "print(\"-\" * 100)\n",
    "net = HybridNet()\n",
    "net.initialize()\n",
    "y = net(x)\n",
    "print(\"y is: \", y)\n",
    "\n",
    "print(\"-\" * 100)\n",
    "net.hybridize()\n",
    "y = net(x)\n",
    "print(\"y is: \", y)"
   ]
  },
  {
   "cell_type": "code",
   "execution_count": null,
   "metadata": {},
   "outputs": [],
   "source": []
  },
  {
   "cell_type": "code",
   "execution_count": null,
   "metadata": {},
   "outputs": [],
   "source": []
  }
 ],
 "metadata": {
  "kernelspec": {
   "display_name": "Python 3",
   "language": "python",
   "name": "python3"
  },
  "language_info": {
   "codemirror_mode": {
    "name": "ipython",
    "version": 3
   },
   "file_extension": ".py",
   "mimetype": "text/x-python",
   "name": "python",
   "nbconvert_exporter": "python",
   "pygments_lexer": "ipython3",
   "version": "3.6.5"
  }
 },
 "nbformat": 4,
 "nbformat_minor": 2
}
