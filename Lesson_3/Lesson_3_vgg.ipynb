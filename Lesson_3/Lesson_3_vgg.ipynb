{
 "cells": [
  {
   "cell_type": "code",
   "execution_count": 6,
   "metadata": {},
   "outputs": [
    {
     "name": "stdout",
     "output_type": "stream",
     "text": [
      "blk is: \n",
      " Sequential(\n",
      "  (0): Conv2D(None -> 128, kernel_size=(3, 3), stride=(1, 1), padding=(1, 1))\n",
      "  (1): Conv2D(None -> 128, kernel_size=(3, 3), stride=(1, 1), padding=(1, 1))\n",
      "  (2): MaxPool2D(size=(2, 2), stride=(2, 2), padding=(0, 0), ceil_mode=False)\n",
      ")\n",
      "type of blk is:  <class 'mxnet.gluon.nn.basic_layers.Sequential'>\n",
      "x.shape is:  (2, 3, 16, 16)\n",
      "y.shape is:  (2, 128, 8, 8)\n",
      "****************************************\n",
      "y.shape is:  (2, 128, 16, 16)\n"
     ]
    }
   ],
   "source": [
    "from mxnet import gluon, nd\n",
    "\n",
    "def vgg_block(num_convs, channels):\n",
    "    \"\"\"定义num_convs个卷积层 + 1个MaxPool池化层的网络块\"\"\"\n",
    "    net = gluon.nn.Sequential()\n",
    "\n",
    "    with net.name_scope():\n",
    "        for _ in range(num_convs):\n",
    "            net.add(gluon.nn.Conv2D(channels=channels, kernel_size=3, padding=1, activation='relu'))   # 图样尺寸公式:  W--> (W - F + P) / S + 1;\n",
    "        net.add(gluon.nn.MaxPool2D(pool_size=2, strides=2))\n",
    "    return net\n",
    "\n",
    "\n",
    "blk = vgg_block(2, 128)\n",
    "blk.initialize()\n",
    "x = nd.random.uniform(shape=(2, 3, 16, 16))\n",
    "print('blk is: \\n', blk)\n",
    "print('type of blk is: ', type(blk))\n",
    "y = blk(x)\n",
    "print('x.shape is: ', x.shape)\n",
    "print('y.shape is: ', y.shape)\n",
    "print('*' * 40)\n",
    "\n",
    "m = gluon.nn.Conv2D(channels=128, kernel_size=3, padding=1, activation='relu')\n",
    "m.initialize()\n",
    "y = m(x)\n",
    "print('y.shape is: ', y.shape)\n"
   ]
  },
  {
   "cell_type": "code",
   "execution_count": null,
   "metadata": {},
   "outputs": [],
   "source": []
  }
 ],
 "metadata": {
  "kernelspec": {
   "display_name": "Python 3",
   "language": "python",
   "name": "python3"
  },
  "language_info": {
   "codemirror_mode": {
    "name": "ipython",
    "version": 3
   },
   "file_extension": ".py",
   "mimetype": "text/x-python",
   "name": "python",
   "nbconvert_exporter": "python",
   "pygments_lexer": "ipython3",
   "version": "3.6.5"
  }
 },
 "nbformat": 4,
 "nbformat_minor": 2
}
